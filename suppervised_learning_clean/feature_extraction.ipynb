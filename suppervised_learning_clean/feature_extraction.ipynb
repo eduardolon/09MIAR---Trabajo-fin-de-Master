{
 "cells": [
  {
   "cell_type": "markdown",
   "metadata": {},
   "source": [
    "Contenido:\n",
    "\n",
    "- Lectura de imagenes de Train\n",
    "- Extracción de atributos de todas las imagenes\n",
    "- Creación de archivo \"Attributes.csv\" con los atributos extraidos"
   ]
  },
  {
   "cell_type": "code",
   "execution_count": 2,
   "metadata": {},
   "outputs": [],
   "source": [
    "# IMPORT LIBRARIES\n",
    "\n",
    "import cv2\n",
    "import pandas as pd\n",
    "import matplotlib.pyplot as plt\n",
    "from preprocessing import get_attributes, get_columns\n",
    "import numpy as np"
   ]
  },
  {
   "cell_type": "code",
   "execution_count": 6,
   "metadata": {},
   "outputs": [
    {
     "data": {
      "text/html": [
       "<div>\n",
       "<style scoped>\n",
       "    .dataframe tbody tr th:only-of-type {\n",
       "        vertical-align: middle;\n",
       "    }\n",
       "\n",
       "    .dataframe tbody tr th {\n",
       "        vertical-align: top;\n",
       "    }\n",
       "\n",
       "    .dataframe thead th {\n",
       "        text-align: right;\n",
       "    }\n",
       "</style>\n",
       "<table border=\"1\" class=\"dataframe\">\n",
       "  <thead>\n",
       "    <tr style=\"text-align: right;\">\n",
       "      <th></th>\n",
       "      <th>Image path</th>\n",
       "      <th>Class</th>\n",
       "      <th>Weight</th>\n",
       "    </tr>\n",
       "  </thead>\n",
       "  <tbody>\n",
       "    <tr>\n",
       "      <th>0</th>\n",
       "      <td>cacao-0.jpg</td>\n",
       "      <td>FBO1</td>\n",
       "      <td>1.66</td>\n",
       "    </tr>\n",
       "    <tr>\n",
       "      <th>1</th>\n",
       "      <td>cacao-1.jpg</td>\n",
       "      <td>FBO1</td>\n",
       "      <td>1.66</td>\n",
       "    </tr>\n",
       "    <tr>\n",
       "      <th>2</th>\n",
       "      <td>cacao-2.jpg</td>\n",
       "      <td>FBO1</td>\n",
       "      <td>1.66</td>\n",
       "    </tr>\n",
       "    <tr>\n",
       "      <th>3</th>\n",
       "      <td>cacao-3.jpg</td>\n",
       "      <td>FBO1</td>\n",
       "      <td>1.66</td>\n",
       "    </tr>\n",
       "    <tr>\n",
       "      <th>4</th>\n",
       "      <td>cacao-4.jpg</td>\n",
       "      <td>FBO1</td>\n",
       "      <td>1.66</td>\n",
       "    </tr>\n",
       "  </tbody>\n",
       "</table>\n",
       "</div>"
      ],
      "text/plain": [
       "    Image path Class  Weight\n",
       "0  cacao-0.jpg  FBO1    1.66\n",
       "1  cacao-1.jpg  FBO1    1.66\n",
       "2  cacao-2.jpg  FBO1    1.66\n",
       "3  cacao-3.jpg  FBO1    1.66\n",
       "4  cacao-4.jpg  FBO1    1.66"
      ]
     },
     "execution_count": 6,
     "metadata": {},
     "output_type": "execute_result"
    }
   ],
   "source": [
    "# READ CSV WITH IMAGE PATHS\n",
    "\n",
    "train_ds = pd.read_csv(\"../Dataset/Augmented/labels_train.csv\", index_col=0)\n",
    "train_ds.head()"
   ]
  },
  {
   "cell_type": "code",
   "execution_count": 9,
   "metadata": {},
   "outputs": [
    {
     "name": "stderr",
     "output_type": "stream",
     "text": [
      " 16%|█▋        | 2116/12896 [00:36<03:07, 57.39it/s]\n"
     ]
    },
    {
     "ename": "KeyboardInterrupt",
     "evalue": "",
     "output_type": "error",
     "traceback": [
      "\u001b[1;31m---------------------------------------------------------------------------\u001b[0m",
      "\u001b[1;31mKeyboardInterrupt\u001b[0m                         Traceback (most recent call last)",
      "Cell \u001b[1;32mIn[9], line 9\u001b[0m\n\u001b[0;32m      7\u001b[0m     image \u001b[38;5;241m=\u001b[39m cv2\u001b[38;5;241m.\u001b[39mimread(\u001b[38;5;124m\"\u001b[39m\u001b[38;5;124m../Dataset/Augmented/Train/\u001b[39m\u001b[38;5;124m\"\u001b[39m \u001b[38;5;241m+\u001b[39m train_ds\u001b[38;5;241m.\u001b[39miloc[i][\u001b[38;5;124m\"\u001b[39m\u001b[38;5;124mImage path\u001b[39m\u001b[38;5;124m\"\u001b[39m])\n\u001b[0;32m      8\u001b[0m     image \u001b[38;5;241m=\u001b[39m cv2\u001b[38;5;241m.\u001b[39mcvtColor(image, cv2\u001b[38;5;241m.\u001b[39mCOLOR_BGR2RGB)\n\u001b[1;32m----> 9\u001b[0m     attr \u001b[38;5;241m=\u001b[39m \u001b[43mget_attributes\u001b[49m\u001b[43m(\u001b[49m\u001b[43mimage\u001b[49m\u001b[43m)\u001b[49m    \n\u001b[0;32m     10\u001b[0m     attributes\u001b[38;5;241m.\u001b[39mappend(attr)\n\u001b[0;32m     13\u001b[0m columns \u001b[38;5;241m=\u001b[39m get_columns()\n",
      "File \u001b[1;32mc:\\Users\\eduar\\OneDrive\\Documentos\\VIU\\Materias\\09MIAR - Trabajo fin de Master\\suppervised_learning_clean\\preprocessing.py:20\u001b[0m, in \u001b[0;36mget_attributes\u001b[1;34m(image)\u001b[0m\n\u001b[0;32m     17\u001b[0m image_gray \u001b[38;5;241m=\u001b[39m cv2\u001b[38;5;241m.\u001b[39mcvtColor(image_resized, cv2\u001b[38;5;241m.\u001b[39mCOLOR_RGB2GRAY)\n\u001b[0;32m     19\u001b[0m \u001b[38;5;66;03m# Thresholding and hole filling\u001b[39;00m\n\u001b[1;32m---> 20\u001b[0m _, img \u001b[38;5;241m=\u001b[39m \u001b[43mcv2\u001b[49m\u001b[38;5;241;43m.\u001b[39;49m\u001b[43mthreshold\u001b[49m\u001b[43m(\u001b[49m\u001b[43mimage_gray\u001b[49m\u001b[43m,\u001b[49m\u001b[43m \u001b[49m\u001b[38;5;241;43m0\u001b[39;49m\u001b[43m,\u001b[49m\u001b[43m \u001b[49m\u001b[38;5;241;43m1\u001b[39;49m\u001b[43m,\u001b[49m\u001b[43m \u001b[49m\u001b[43mcv2\u001b[49m\u001b[38;5;241;43m.\u001b[39;49m\u001b[43mTHRESH_OTSU\u001b[49m\u001b[43m)\u001b[49m\n\u001b[0;32m     21\u001b[0m img \u001b[38;5;241m=\u001b[39m \u001b[38;5;241m1\u001b[39m \u001b[38;5;241m-\u001b[39m img\n\u001b[0;32m     22\u001b[0m img \u001b[38;5;241m=\u001b[39m binary_fill_holes(img)\n",
      "\u001b[1;31mKeyboardInterrupt\u001b[0m: "
     ]
    }
   ],
   "source": [
    "# GET ATTRIBUTES FROM ALL IMAGES IN DATASET\n",
    "from tqdm import tqdm\n",
    "\n",
    "attributes = []\n",
    "\n",
    "for i in tqdm(range(len(train_ds))):\n",
    "    image = cv2.imread(\"../Dataset/Augmented/Train/\" + train_ds.iloc[i][\"Image path\"])\n",
    "    image = cv2.cvtColor(image, cv2.COLOR_BGR2RGB)\n",
    "    attr = get_attributes(image)    \n",
    "    attributes.append(attr)\n",
    "    \n",
    "\n",
    "columns = get_columns()\n",
    "\n",
    "attributes = pd.DataFrame(attributes, columns=columns)\n",
    "attributes.head()"
   ]
  },
  {
   "cell_type": "code",
   "execution_count": 12,
   "metadata": {},
   "outputs": [],
   "source": [
    "# STANDARIZE DATASET\n",
    "\n",
    "from sklearn.preprocessing import StandardScaler\n",
    "\n",
    "scaler = StandardScaler()\n",
    "\n",
    "attributes_std = scaler.fit_transform(attributes)\n",
    "\n",
    "attributes_std = pd.DataFrame(attributes_std, columns=columns)\n",
    "\n",
    "attributes_std[\"Class\"] = train_ds[\"Class\"]\n",
    "attributes_std.head()\n",
    "\n",
    "attributes_std.to_csv(\"attributes.csv\")"
   ]
  }
 ],
 "metadata": {
  "kernelspec": {
   "display_name": "tfm",
   "language": "python",
   "name": "python3"
  },
  "language_info": {
   "codemirror_mode": {
    "name": "ipython",
    "version": 3
   },
   "file_extension": ".py",
   "mimetype": "text/x-python",
   "name": "python",
   "nbconvert_exporter": "python",
   "pygments_lexer": "ipython3",
   "version": "3.12.6"
  }
 },
 "nbformat": 4,
 "nbformat_minor": 2
}
