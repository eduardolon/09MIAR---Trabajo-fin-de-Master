{
  "cells": [
    {
      "cell_type": "code",
      "execution_count": null,
      "metadata": {
        "id": "OcsfTv_kIR7x"
      },
      "outputs": [],
      "source": [
        "import numpy as np\n",
        "import cv2\n",
        "import pandas as pd\n",
        "import matplotlib.pyplot as plt\n",
        "import keras\n",
        "\n",
        "from scipy.ndimage import binary_fill_holes\n",
        "from skimage.morphology import remove_small_objects\n",
        "from skimage.measure import regionprops\n",
        "from skimage.measure import label\n",
        "from tqdm import tqdm\n",
        "\n",
        "from keras.layers import Conv2D, MaxPooling2D, Flatten, Dense, Dropout, BatchNormalization\n",
        "from keras.models import Sequential\n",
        "from keras.utils import to_categorical\n",
        "from sklearn.preprocessing import LabelEncoder\n",
        "from sklearn.model_selection import train_test_split"
      ]
    },
    {
      "cell_type": "code",
      "execution_count": null,
      "metadata": {
        "id": "ymt3dutcU7Yl"
      },
      "outputs": [],
      "source": [
        "%%capture\n",
        "!unzip Processed.zip -d Dataset"
      ]
    },
    {
      "cell_type": "code",
      "execution_count": null,
      "metadata": {
        "id": "_pHbK2nUVEBq"
      },
      "outputs": [],
      "source": [
        "# UTILS\n",
        "\n",
        "import matplotlib.pyplot as plt\n",
        "import numpy as np\n",
        "\n",
        "def visualize_learning_curve(H):\n",
        "  epochs = len(H.history[\"loss\"])\n",
        "  plt.style.use(\"ggplot\")\n",
        "  plt.figure()\n",
        "  plt.plot(np.arange(0, epochs), H.history[\"loss\"], label=\"train_loss\")\n",
        "  plt.plot(np.arange(0, epochs), H.history[\"val_loss\"], label=\"val_loss\")\n",
        "  plt.plot(np.arange(0, epochs), H.history[\"mae\"], label=\"train_mae\")\n",
        "  plt.plot(np.arange(0, epochs), H.history[\"val_mae\"], label=\"val_mae\")\n",
        "  plt.title(\"Training Loss and MAE\")\n",
        "  plt.xlabel(\"Epoch #\")\n",
        "  plt.ylabel(\"Loss/MAE\")\n",
        "  plt.legend()\n",
        "\n",
        "from sklearn.metrics import classification_report\n",
        "\n",
        "def evaluate_model(model, x, y):\n",
        "  print(\"[INFO]: Evaluando red neuronal...\")\n",
        "  predictions = model.predict(x, batch_size=128)\n",
        "  print(classification_report(y, predictions.argmax(axis=1)))"
      ]
    },
    {
      "cell_type": "code",
      "execution_count": null,
      "metadata": {
        "colab": {
          "base_uri": "https://localhost:8080/"
        },
        "id": "5RoCSd5wVgxM",
        "outputId": "c842ae6c-3f08-4c91-c6ed-921b2faab482"
      },
      "outputs": [
        {
          "output_type": "stream",
          "name": "stderr",
          "text": [
            "100%|██████████| 1612/1612 [00:00<00:00, 8502.68it/s]\n"
          ]
        }
      ],
      "source": [
        "import pandas as pd\n",
        "import cv2\n",
        "from tqdm import tqdm\n",
        "\n",
        "df = pd.read_csv(\"Dataset/Processed/labels_train.csv\", index_col=0)\n",
        "\n",
        "image_data = []\n",
        "image_labels = []\n",
        "\n",
        "for i in tqdm(range(len(df))):\n",
        "  img = cv2.imread(f\"Dataset/Processed/Train/cacao-{i}.jpg\")\n",
        "  image_data.append(img)\n",
        "\n",
        "image_data = np.array(image_data)\n",
        "image_labels = df[\"weight\"].values"
      ]
    },
    {
      "cell_type": "code",
      "execution_count": null,
      "metadata": {
        "id": "Zh-k0NMrGbrp"
      },
      "outputs": [],
      "source": [
        "# Step 3: Split the Data into Train and Validation Sets\n",
        "X_train, X_val, y_train, y_val = train_test_split(image_data, image_labels, test_size=0.2, random_state=42)\n"
      ]
    },
    {
      "cell_type": "code",
      "source": [
        "from keras.applications import VGG16\n",
        "\n",
        "VGG16_model = VGG16(weights='imagenet', include_top=False, input_shape=(100, 100, 3))\n",
        "\n",
        "for layer in VGG16_model.layers:\n",
        "    layer.trainable = False\n",
        "    if layer.name == 'block5_conv1':\n",
        "        break\n",
        "\n",
        "model = Sequential()\n",
        "model.add(VGG16_model)\n",
        "model.add(Flatten())\n",
        "model.add(Dense(256, activation='relu'))\n",
        "model.add(Dense(128, activation='relu'))\n",
        "model.add(Dropout(0.5))\n",
        "model.add(Dense(1, activation='linear'))\n",
        "\n",
        "model.compile(optimizer='adam', loss='mse', metrics=['mae', 'mape'])\n",
        "model.summary()"
      ],
      "metadata": {
        "colab": {
          "base_uri": "https://localhost:8080/",
          "height": 340
        },
        "id": "vubavsDhx9up",
        "outputId": "3b89808a-3fce-4805-92b0-5c983b93960c"
      },
      "execution_count": null,
      "outputs": [
        {
          "output_type": "display_data",
          "data": {
            "text/plain": [
              "\u001b[1mModel: \"sequential_10\"\u001b[0m\n"
            ],
            "text/html": [
              "<pre style=\"white-space:pre;overflow-x:auto;line-height:normal;font-family:Menlo,'DejaVu Sans Mono',consolas,'Courier New',monospace\"><span style=\"font-weight: bold\">Model: \"sequential_10\"</span>\n",
              "</pre>\n"
            ]
          },
          "metadata": {}
        },
        {
          "output_type": "display_data",
          "data": {
            "text/plain": [
              "┏━━━━━━━━━━━━━━━━━━━━━━━━━━━━━━━━━━━━━━┳━━━━━━━━━━━━━━━━━━━━━━━━━━━━━┳━━━━━━━━━━━━━━━━━┓\n",
              "┃\u001b[1m \u001b[0m\u001b[1mLayer (type)                        \u001b[0m\u001b[1m \u001b[0m┃\u001b[1m \u001b[0m\u001b[1mOutput Shape               \u001b[0m\u001b[1m \u001b[0m┃\u001b[1m \u001b[0m\u001b[1m        Param #\u001b[0m\u001b[1m \u001b[0m┃\n",
              "┡━━━━━━━━━━━━━━━━━━━━━━━━━━━━━━━━━━━━━━╇━━━━━━━━━━━━━━━━━━━━━━━━━━━━━╇━━━━━━━━━━━━━━━━━┩\n",
              "│ vgg16 (\u001b[38;5;33mFunctional\u001b[0m)                   │ (\u001b[38;5;45mNone\u001b[0m, \u001b[38;5;34m3\u001b[0m, \u001b[38;5;34m3\u001b[0m, \u001b[38;5;34m512\u001b[0m)           │      \u001b[38;5;34m14,714,688\u001b[0m │\n",
              "├──────────────────────────────────────┼─────────────────────────────┼─────────────────┤\n",
              "│ flatten_10 (\u001b[38;5;33mFlatten\u001b[0m)                 │ (\u001b[38;5;45mNone\u001b[0m, \u001b[38;5;34m4608\u001b[0m)                │               \u001b[38;5;34m0\u001b[0m │\n",
              "├──────────────────────────────────────┼─────────────────────────────┼─────────────────┤\n",
              "│ dense_20 (\u001b[38;5;33mDense\u001b[0m)                     │ (\u001b[38;5;45mNone\u001b[0m, \u001b[38;5;34m256\u001b[0m)                 │       \u001b[38;5;34m1,179,904\u001b[0m │\n",
              "├──────────────────────────────────────┼─────────────────────────────┼─────────────────┤\n",
              "│ dense_21 (\u001b[38;5;33mDense\u001b[0m)                     │ (\u001b[38;5;45mNone\u001b[0m, \u001b[38;5;34m128\u001b[0m)                 │          \u001b[38;5;34m32,896\u001b[0m │\n",
              "├──────────────────────────────────────┼─────────────────────────────┼─────────────────┤\n",
              "│ dropout_10 (\u001b[38;5;33mDropout\u001b[0m)                 │ (\u001b[38;5;45mNone\u001b[0m, \u001b[38;5;34m128\u001b[0m)                 │               \u001b[38;5;34m0\u001b[0m │\n",
              "├──────────────────────────────────────┼─────────────────────────────┼─────────────────┤\n",
              "│ dense_22 (\u001b[38;5;33mDense\u001b[0m)                     │ (\u001b[38;5;45mNone\u001b[0m, \u001b[38;5;34m1\u001b[0m)                   │             \u001b[38;5;34m129\u001b[0m │\n",
              "└──────────────────────────────────────┴─────────────────────────────┴─────────────────┘\n"
            ],
            "text/html": [
              "<pre style=\"white-space:pre;overflow-x:auto;line-height:normal;font-family:Menlo,'DejaVu Sans Mono',consolas,'Courier New',monospace\">┏━━━━━━━━━━━━━━━━━━━━━━━━━━━━━━━━━━━━━━┳━━━━━━━━━━━━━━━━━━━━━━━━━━━━━┳━━━━━━━━━━━━━━━━━┓\n",
              "┃<span style=\"font-weight: bold\"> Layer (type)                         </span>┃<span style=\"font-weight: bold\"> Output Shape                </span>┃<span style=\"font-weight: bold\">         Param # </span>┃\n",
              "┡━━━━━━━━━━━━━━━━━━━━━━━━━━━━━━━━━━━━━━╇━━━━━━━━━━━━━━━━━━━━━━━━━━━━━╇━━━━━━━━━━━━━━━━━┩\n",
              "│ vgg16 (<span style=\"color: #0087ff; text-decoration-color: #0087ff\">Functional</span>)                   │ (<span style=\"color: #00d7ff; text-decoration-color: #00d7ff\">None</span>, <span style=\"color: #00af00; text-decoration-color: #00af00\">3</span>, <span style=\"color: #00af00; text-decoration-color: #00af00\">3</span>, <span style=\"color: #00af00; text-decoration-color: #00af00\">512</span>)           │      <span style=\"color: #00af00; text-decoration-color: #00af00\">14,714,688</span> │\n",
              "├──────────────────────────────────────┼─────────────────────────────┼─────────────────┤\n",
              "│ flatten_10 (<span style=\"color: #0087ff; text-decoration-color: #0087ff\">Flatten</span>)                 │ (<span style=\"color: #00d7ff; text-decoration-color: #00d7ff\">None</span>, <span style=\"color: #00af00; text-decoration-color: #00af00\">4608</span>)                │               <span style=\"color: #00af00; text-decoration-color: #00af00\">0</span> │\n",
              "├──────────────────────────────────────┼─────────────────────────────┼─────────────────┤\n",
              "│ dense_20 (<span style=\"color: #0087ff; text-decoration-color: #0087ff\">Dense</span>)                     │ (<span style=\"color: #00d7ff; text-decoration-color: #00d7ff\">None</span>, <span style=\"color: #00af00; text-decoration-color: #00af00\">256</span>)                 │       <span style=\"color: #00af00; text-decoration-color: #00af00\">1,179,904</span> │\n",
              "├──────────────────────────────────────┼─────────────────────────────┼─────────────────┤\n",
              "│ dense_21 (<span style=\"color: #0087ff; text-decoration-color: #0087ff\">Dense</span>)                     │ (<span style=\"color: #00d7ff; text-decoration-color: #00d7ff\">None</span>, <span style=\"color: #00af00; text-decoration-color: #00af00\">128</span>)                 │          <span style=\"color: #00af00; text-decoration-color: #00af00\">32,896</span> │\n",
              "├──────────────────────────────────────┼─────────────────────────────┼─────────────────┤\n",
              "│ dropout_10 (<span style=\"color: #0087ff; text-decoration-color: #0087ff\">Dropout</span>)                 │ (<span style=\"color: #00d7ff; text-decoration-color: #00d7ff\">None</span>, <span style=\"color: #00af00; text-decoration-color: #00af00\">128</span>)                 │               <span style=\"color: #00af00; text-decoration-color: #00af00\">0</span> │\n",
              "├──────────────────────────────────────┼─────────────────────────────┼─────────────────┤\n",
              "│ dense_22 (<span style=\"color: #0087ff; text-decoration-color: #0087ff\">Dense</span>)                     │ (<span style=\"color: #00d7ff; text-decoration-color: #00d7ff\">None</span>, <span style=\"color: #00af00; text-decoration-color: #00af00\">1</span>)                   │             <span style=\"color: #00af00; text-decoration-color: #00af00\">129</span> │\n",
              "└──────────────────────────────────────┴─────────────────────────────┴─────────────────┘\n",
              "</pre>\n"
            ]
          },
          "metadata": {}
        },
        {
          "output_type": "display_data",
          "data": {
            "text/plain": [
              "\u001b[1m Total params: \u001b[0m\u001b[38;5;34m15,927,617\u001b[0m (60.76 MB)\n"
            ],
            "text/html": [
              "<pre style=\"white-space:pre;overflow-x:auto;line-height:normal;font-family:Menlo,'DejaVu Sans Mono',consolas,'Courier New',monospace\"><span style=\"font-weight: bold\"> Total params: </span><span style=\"color: #00af00; text-decoration-color: #00af00\">15,927,617</span> (60.76 MB)\n",
              "</pre>\n"
            ]
          },
          "metadata": {}
        },
        {
          "output_type": "display_data",
          "data": {
            "text/plain": [
              "\u001b[1m Trainable params: \u001b[0m\u001b[38;5;34m5,932,545\u001b[0m (22.63 MB)\n"
            ],
            "text/html": [
              "<pre style=\"white-space:pre;overflow-x:auto;line-height:normal;font-family:Menlo,'DejaVu Sans Mono',consolas,'Courier New',monospace\"><span style=\"font-weight: bold\"> Trainable params: </span><span style=\"color: #00af00; text-decoration-color: #00af00\">5,932,545</span> (22.63 MB)\n",
              "</pre>\n"
            ]
          },
          "metadata": {}
        },
        {
          "output_type": "display_data",
          "data": {
            "text/plain": [
              "\u001b[1m Non-trainable params: \u001b[0m\u001b[38;5;34m9,995,072\u001b[0m (38.13 MB)\n"
            ],
            "text/html": [
              "<pre style=\"white-space:pre;overflow-x:auto;line-height:normal;font-family:Menlo,'DejaVu Sans Mono',consolas,'Courier New',monospace\"><span style=\"font-weight: bold\"> Non-trainable params: </span><span style=\"color: #00af00; text-decoration-color: #00af00\">9,995,072</span> (38.13 MB)\n",
              "</pre>\n"
            ]
          },
          "metadata": {}
        }
      ]
    },
    {
      "cell_type": "code",
      "execution_count": null,
      "metadata": {
        "colab": {
          "base_uri": "https://localhost:8080/"
        },
        "id": "J-qZhvvDGpdo",
        "outputId": "58656129-8982-40f1-8fa2-4d04d25ad90e"
      },
      "outputs": [
        {
          "output_type": "stream",
          "name": "stdout",
          "text": [
            "Epoch 1/50\n",
            "\u001b[1m41/41\u001b[0m \u001b[32m━━━━━━━━━━━━━━━━━━━━\u001b[0m\u001b[37m\u001b[0m \u001b[1m11s\u001b[0m 171ms/step - loss: 41.4000 - mae: 4.1272 - mape: 309.1429 - val_loss: 0.1263 - val_mae: 0.2935 - val_mape: 23.0880 - learning_rate: 0.0010\n",
            "Epoch 2/50\n",
            "\u001b[1m41/41\u001b[0m \u001b[32m━━━━━━━━━━━━━━━━━━━━\u001b[0m\u001b[37m\u001b[0m \u001b[1m4s\u001b[0m 88ms/step - loss: 0.2871 - mae: 0.4311 - mape: 30.8373 - val_loss: 0.2071 - val_mae: 0.3987 - val_mape: 31.5834 - learning_rate: 0.0010\n",
            "Epoch 3/50\n",
            "\u001b[1m41/41\u001b[0m \u001b[32m━━━━━━━━━━━━━━━━━━━━\u001b[0m\u001b[37m\u001b[0m \u001b[1m5s\u001b[0m 120ms/step - loss: 0.3105 - mae: 0.4544 - mape: 32.9840 - val_loss: 0.0498 - val_mae: 0.1731 - val_mape: 12.5892 - learning_rate: 0.0010\n",
            "Epoch 4/50\n",
            "\u001b[1m41/41\u001b[0m \u001b[32m━━━━━━━━━━━━━━━━━━━━\u001b[0m\u001b[37m\u001b[0m \u001b[1m4s\u001b[0m 88ms/step - loss: 0.1656 - mae: 0.3229 - mape: 23.3770 - val_loss: 0.2481 - val_mae: 0.4502 - val_mape: 35.7823 - learning_rate: 0.0010\n",
            "Epoch 5/50\n",
            "\u001b[1m41/41\u001b[0m \u001b[32m━━━━━━━━━━━━━━━━━━━━\u001b[0m\u001b[37m\u001b[0m \u001b[1m5s\u001b[0m 89ms/step - loss: 0.1968 - mae: 0.3497 - mape: 25.1853 - val_loss: 0.0681 - val_mae: 0.2140 - val_mape: 14.9176 - learning_rate: 0.0010\n",
            "Epoch 6/50\n",
            "\u001b[1m41/41\u001b[0m \u001b[32m━━━━━━━━━━━━━━━━━━━━\u001b[0m\u001b[37m\u001b[0m \u001b[1m5s\u001b[0m 110ms/step - loss: 0.1615 - mae: 0.3262 - mape: 22.7774 - val_loss: 0.0763 - val_mae: 0.2188 - val_mape: 17.1414 - learning_rate: 0.0010\n",
            "Epoch 7/50\n",
            "\u001b[1m41/41\u001b[0m \u001b[32m━━━━━━━━━━━━━━━━━━━━\u001b[0m\u001b[37m\u001b[0m \u001b[1m4s\u001b[0m 85ms/step - loss: 0.1350 - mae: 0.2802 - mape: 19.7338 - val_loss: 0.0439 - val_mae: 0.1623 - val_mape: 12.6511 - learning_rate: 0.0010\n",
            "Epoch 8/50\n",
            "\u001b[1m41/41\u001b[0m \u001b[32m━━━━━━━━━━━━━━━━━━━━\u001b[0m\u001b[37m\u001b[0m \u001b[1m4s\u001b[0m 95ms/step - loss: 0.0993 - mae: 0.2475 - mape: 17.8541 - val_loss: 0.0807 - val_mae: 0.2310 - val_mape: 18.4605 - learning_rate: 0.0010\n",
            "Epoch 9/50\n",
            "\u001b[1m41/41\u001b[0m \u001b[32m━━━━━━━━━━━━━━━━━━━━\u001b[0m\u001b[37m\u001b[0m \u001b[1m5s\u001b[0m 88ms/step - loss: 0.1016 - mae: 0.2527 - mape: 17.9451 - val_loss: 0.0364 - val_mae: 0.1438 - val_mape: 11.0567 - learning_rate: 0.0010\n",
            "Epoch 10/50\n",
            "\u001b[1m41/41\u001b[0m \u001b[32m━━━━━━━━━━━━━━━━━━━━\u001b[0m\u001b[37m\u001b[0m \u001b[1m4s\u001b[0m 85ms/step - loss: 0.1091 - mae: 0.2609 - mape: 18.7881 - val_loss: 0.1201 - val_mae: 0.2941 - val_mape: 23.4567 - learning_rate: 0.0010\n",
            "Epoch 11/50\n",
            "\u001b[1m41/41\u001b[0m \u001b[32m━━━━━━━━━━━━━━━━━━━━\u001b[0m\u001b[37m\u001b[0m \u001b[1m7s\u001b[0m 120ms/step - loss: 0.1184 - mae: 0.2679 - mape: 19.7754 - val_loss: 0.0598 - val_mae: 0.1919 - val_mape: 15.2431 - learning_rate: 0.0010\n",
            "Epoch 12/50\n",
            "\u001b[1m41/41\u001b[0m \u001b[32m━━━━━━━━━━━━━━━━━━━━\u001b[0m\u001b[37m\u001b[0m \u001b[1m4s\u001b[0m 87ms/step - loss: 0.1142 - mae: 0.2694 - mape: 19.4504 - val_loss: 0.0745 - val_mae: 0.2217 - val_mape: 17.7968 - learning_rate: 0.0010\n",
            "Epoch 13/50\n",
            "\u001b[1m41/41\u001b[0m \u001b[32m━━━━━━━━━━━━━━━━━━━━\u001b[0m\u001b[37m\u001b[0m \u001b[1m5s\u001b[0m 87ms/step - loss: 0.1187 - mae: 0.2695 - mape: 19.6089 - val_loss: 0.0336 - val_mae: 0.1392 - val_mape: 10.4194 - learning_rate: 0.0010\n",
            "Epoch 14/50\n",
            "\u001b[1m41/41\u001b[0m \u001b[32m━━━━━━━━━━━━━━━━━━━━\u001b[0m\u001b[37m\u001b[0m \u001b[1m6s\u001b[0m 97ms/step - loss: 0.1118 - mae: 0.2622 - mape: 18.5583 - val_loss: 0.0818 - val_mae: 0.2311 - val_mape: 17.9323 - learning_rate: 0.0010\n",
            "Epoch 15/50\n",
            "\u001b[1m41/41\u001b[0m \u001b[32m━━━━━━━━━━━━━━━━━━━━\u001b[0m\u001b[37m\u001b[0m \u001b[1m4s\u001b[0m 87ms/step - loss: 0.1227 - mae: 0.2780 - mape: 20.0392 - val_loss: 0.0341 - val_mae: 0.1393 - val_mape: 10.4561 - learning_rate: 0.0010\n",
            "Epoch 16/50\n",
            "\u001b[1m41/41\u001b[0m \u001b[32m━━━━━━━━━━━━━━━━━━━━\u001b[0m\u001b[37m\u001b[0m \u001b[1m6s\u001b[0m 119ms/step - loss: 0.1170 - mae: 0.2627 - mape: 18.7524 - val_loss: 0.0341 - val_mae: 0.1381 - val_mape: 10.4887 - learning_rate: 0.0010\n",
            "Epoch 17/50\n",
            "\u001b[1m41/41\u001b[0m \u001b[32m━━━━━━━━━━━━━━━━━━━━\u001b[0m\u001b[37m\u001b[0m \u001b[1m4s\u001b[0m 88ms/step - loss: 0.1384 - mae: 0.2969 - mape: 21.2706 - val_loss: 0.0347 - val_mae: 0.1422 - val_mape: 10.5347 - learning_rate: 0.0010\n",
            "Epoch 18/50\n",
            "\u001b[1m40/41\u001b[0m \u001b[32m━━━━━━━━━━━━━━━━━━━\u001b[0m\u001b[37m━\u001b[0m \u001b[1m0s\u001b[0m 79ms/step - loss: 0.1264 - mae: 0.2803 - mape: 20.2859\n",
            "Epoch 18: ReduceLROnPlateau reducing learning rate to 0.00010000000474974513.\n",
            "\u001b[1m41/41\u001b[0m \u001b[32m━━━━━━━━━━━━━━━━━━━━\u001b[0m\u001b[37m\u001b[0m \u001b[1m5s\u001b[0m 94ms/step - loss: 0.1261 - mae: 0.2801 - mape: 20.2574 - val_loss: 0.0548 - val_mae: 0.1940 - val_mape: 13.5856 - learning_rate: 0.0010\n",
            "Epoch 19/50\n",
            "\u001b[1m41/41\u001b[0m \u001b[32m━━━━━━━━━━━━━━━━━━━━\u001b[0m\u001b[37m\u001b[0m \u001b[1m5s\u001b[0m 88ms/step - loss: 0.1261 - mae: 0.2795 - mape: 19.9260 - val_loss: 0.0361 - val_mae: 0.1429 - val_mape: 11.0223 - learning_rate: 1.0000e-04\n",
            "Epoch 20/50\n",
            "\u001b[1m41/41\u001b[0m \u001b[32m━━━━━━━━━━━━━━━━━━━━\u001b[0m\u001b[37m\u001b[0m \u001b[1m5s\u001b[0m 86ms/step - loss: 0.1026 - mae: 0.2508 - mape: 17.9556 - val_loss: 0.0387 - val_mae: 0.1465 - val_mape: 11.3021 - learning_rate: 1.0000e-04\n",
            "Epoch 21/50\n",
            "\u001b[1m41/41\u001b[0m \u001b[32m━━━━━━━━━━━━━━━━━━━━\u001b[0m\u001b[37m\u001b[0m \u001b[1m6s\u001b[0m 119ms/step - loss: 0.1019 - mae: 0.2464 - mape: 17.6621 - val_loss: 0.0372 - val_mae: 0.1428 - val_mape: 10.9176 - learning_rate: 1.0000e-04\n",
            "Epoch 22/50\n",
            "\u001b[1m41/41\u001b[0m \u001b[32m━━━━━━━━━━━━━━━━━━━━\u001b[0m\u001b[37m\u001b[0m \u001b[1m9s\u001b[0m 97ms/step - loss: 0.1037 - mae: 0.2604 - mape: 18.2791 - val_loss: 0.0406 - val_mae: 0.1515 - val_mape: 11.7626 - learning_rate: 1.0000e-04\n",
            "Epoch 23/50\n",
            "\u001b[1m40/41\u001b[0m \u001b[32m━━━━━━━━━━━━━━━━━━━\u001b[0m\u001b[37m━\u001b[0m \u001b[1m0s\u001b[0m 94ms/step - loss: 0.1004 - mae: 0.2492 - mape: 17.6702\n",
            "Epoch 23: ReduceLROnPlateau reducing learning rate to 1.0000000474974514e-05.\n",
            "\u001b[1m41/41\u001b[0m \u001b[32m━━━━━━━━━━━━━━━━━━━━\u001b[0m\u001b[37m\u001b[0m \u001b[1m5s\u001b[0m 101ms/step - loss: 0.1002 - mae: 0.2490 - mape: 17.6727 - val_loss: 0.0414 - val_mae: 0.1519 - val_mape: 11.7335 - learning_rate: 1.0000e-04\n",
            "Epoch 23: early stopping\n"
          ]
        }
      ],
      "source": [
        "from keras.callbacks import EarlyStopping, ReduceLROnPlateau\n",
        "from tensorflow.keras.preprocessing.image import ImageDataGenerator\n",
        "\n",
        "callbacks = [\n",
        "    EarlyStopping(patience=10, verbose=1),\n",
        "    ReduceLROnPlateau(factor=0.1, patience=5, verbose=1, min_lr=1e-5)\n",
        "]\n",
        "\n",
        "datagen = ImageDataGenerator(\n",
        "    rotation_range=20,\n",
        "    horizontal_flip=True\n",
        ")\n",
        "\n",
        "# Fit the generator on your training data\n",
        "datagen.fit(X_train)\n",
        "\n",
        "history = model.fit(\n",
        "    datagen.flow(X_train, y_train, batch_size=32),\n",
        "    epochs=50,\n",
        "    validation_data=(X_val, y_val),\n",
        "    callbacks=callbacks\n",
        ")"
      ]
    },
    {
      "cell_type": "markdown",
      "source": [],
      "metadata": {
        "id": "Y-89LHInxjEL"
      }
    },
    {
      "cell_type": "code",
      "execution_count": null,
      "metadata": {
        "colab": {
          "base_uri": "https://localhost:8080/"
        },
        "id": "XJ8Yf3avGx1h",
        "outputId": "930188a8-fa8f-45c4-ba26-5278c9fd2fb0"
      },
      "outputs": [
        {
          "output_type": "stream",
          "name": "stdout",
          "text": [
            "\u001b[1m11/11\u001b[0m \u001b[32m━━━━━━━━━━━━━━━━━━━━\u001b[0m\u001b[37m\u001b[0m \u001b[1m0s\u001b[0m 37ms/step - loss: 0.0456 - mae: 0.1581 - mape: 12.4792\n"
          ]
        },
        {
          "output_type": "stream",
          "name": "stderr",
          "text": [
            "WARNING:absl:You are saving your model as an HDF5 file via `model.save()` or `keras.saving.save_model(model)`. This file format is considered legacy. We recommend using instead the native Keras format, e.g. `model.save('my_model.keras')` or `keras.saving.save_model(model, 'my_model.keras')`. \n"
          ]
        },
        {
          "output_type": "stream",
          "name": "stdout",
          "text": [
            "Validation MAE: 0.1519\n"
          ]
        }
      ],
      "source": [
        "val_loss, val_mae, val_mape = model.evaluate(X_val, y_val)\n",
        "print(f\"Validation MAE: {val_mae:.4f}\")\n",
        "\n",
        "# Step 8: Save the Model\n",
        "model.save('cacao_bean_regression_cnn_model.h5')"
      ]
    },
    {
      "cell_type": "code",
      "source": [
        "visualize_learning_curve(history)"
      ],
      "metadata": {
        "colab": {
          "base_uri": "https://localhost:8080/",
          "height": 477
        },
        "id": "DkEoAn2VyjVj",
        "outputId": "1d2ca1a5-4827-4475-c7a6-771a18189a68"
      },
      "execution_count": null,
      "outputs": [
        {
          "output_type": "display_data",
          "data": {
            "text/plain": [
              "<Figure size 640x480 with 1 Axes>"
            ],
            "image/png": "[encoded data removed]"
          },
          "metadata": {}
        }
      ]
    },
    {
      "cell_type": "markdown",
      "metadata": {
        "id": "dDGZgGfcJJrW"
      },
      "source": [
        "# TESTING"
      ]
    },
    {
      "cell_type": "code",
      "execution_count": null,
      "metadata": {
        "id": "NJ57gUQKJWnv"
      },
      "outputs": [],
      "source": [
        "%%capture\n",
        "!unzip Test.zip -d Test"
      ]
    },
    {
      "cell_type": "code",
      "execution_count": null,
      "metadata": {
        "id": "HHSBYgXKJKWv"
      },
      "outputs": [],
      "source": [
        "def process_image(image):\n",
        "\n",
        "    # Resize once and convert to grayscale\n",
        "    image_resized = cv2.resize(image, (500, 300))\n",
        "    image_gray = cv2.cvtColor(image_resized, cv2.COLOR_RGB2GRAY)\n",
        "\n",
        "    # Thresholding and hole filling\n",
        "    _, img = cv2.threshold(image_gray, 0, 1, cv2.THRESH_OTSU)\n",
        "    img = 1 - img\n",
        "    img = binary_fill_holes(img)\n",
        "\n",
        "    # Calculate largest bounding box using regionprops\n",
        "    lab, num = label(img, return_num=True)\n",
        "    max_area = 0\n",
        "    bbox = []\n",
        "\n",
        "    for i in range(1, num + 1):\n",
        "        object_region = (lab == i).astype('uint8')\n",
        "        prop = regionprops(object_region)[0]\n",
        "        area = prop.area\n",
        "        if area > max_area:\n",
        "            max_area = area\n",
        "            bbox = prop.bbox\n",
        "\n",
        "\n",
        "    # If max_area is too small, skip processing (early exit)\n",
        "    if max_area < 1000:\n",
        "        print(f\"Max area too small: {max_area}\")\n",
        "        return None\n",
        "\n",
        "    # Crop the image and apply the mask\n",
        "    img_cropped = image_resized[bbox[0]: bbox[2], bbox[1]: bbox[3]]\n",
        "    mask_cropped = img[bbox[0]: bbox[2], bbox[1]:bbox[3]]\n",
        "    img_cropped = img_cropped * mask_cropped[..., None]\n",
        "\n",
        "    old_image_height, old_image_width, channels = img_cropped.shape\n",
        "\n",
        "    # create new image of desired size and color (blue) for padding\n",
        "    new_image_width = 300\n",
        "    new_image_height = 300\n",
        "    color = (0,0,0)\n",
        "    result = np.full((new_image_height,new_image_width, channels), color, dtype=np.uint8)\n",
        "\n",
        "    # compute center offset\n",
        "    x_center = (new_image_width - old_image_width) // 2\n",
        "    y_center = (new_image_height - old_image_height) // 2\n",
        "\n",
        "    # copy img image into center of result image\n",
        "    result[y_center:y_center+old_image_height,\n",
        "        x_center:x_center+old_image_width] = img_cropped\n",
        "\n",
        "    result = cv2.resize(result, (100,100))\n",
        "\n",
        "\n",
        "    return result\n"
      ]
    },
    {
      "cell_type": "code",
      "execution_count": null,
      "metadata": {
        "colab": {
          "base_uri": "https://localhost:8080/"
        },
        "id": "Xi3OZqGmJPAm",
        "outputId": "8633870b-1b6f-4a8d-d31a-c0cdc0be5293"
      },
      "outputs": [
        {
          "output_type": "stream",
          "name": "stderr",
          "text": [
            "100%|██████████| 180/180 [00:26<00:00,  6.80it/s]\n"
          ]
        }
      ],
      "source": [
        "df = pd.read_csv(\"labels_test.csv\")\n",
        "\n",
        "df.head()\n",
        "\n",
        "classes = np.unique(df[\"Weight\"])\n",
        "\n",
        "images_test = []\n",
        "labels_test = []\n",
        "\n",
        "\n",
        "for i in tqdm(range(len(df))):\n",
        "  path = df.iloc[i][\"Image path\"].replace(\"Dataset\", \"Test\")\n",
        "\n",
        "\n",
        "  image = cv2.imread(path)\n",
        "  image = process_image(image)\n",
        "  images_test.append(image)\n",
        "  labels_test.append(df.iloc[i][\"Weight\"])\n"
      ]
    },
    {
      "cell_type": "code",
      "execution_count": null,
      "metadata": {
        "id": "jTsgaeH-OpNC"
      },
      "outputs": [],
      "source": [
        "predictions = []\n",
        "\n",
        "for i in images_test:\n",
        "  single_image = np.expand_dims(i, axis=0)\n",
        "  predictions.append(model.predict(single_image, verbose=0)[0][0])\n",
        "\n"
      ]
    },
    {
      "cell_type": "code",
      "source": [
        "# Scatter plot (True vs Predicted)\n",
        "plt.figure(figsize=(6, 6))\n",
        "plt.scatter(labels_test, predictions, color='blue', label='Predictions')\n",
        "plt.plot([min(labels_test), max(labels_test)], [min(labels_test), max(labels_test)], 'r--', label='Ideal')\n",
        "plt.xlabel('True Values')\n",
        "plt.ylabel('Predicted Values')\n",
        "plt.title('True vs Predicted')\n",
        "plt.legend()\n",
        "plt.show()"
      ],
      "metadata": {
        "colab": {
          "base_uri": "https://localhost:8080/",
          "height": 569
        },
        "id": "Ae7K-ACsc1V0",
        "outputId": "cffa4798-6a49-433c-bb80-2209784f7a8d"
      },
      "execution_count": null,
      "outputs": [
        {
          "output_type": "display_data",
          "data": {
            "text/plain": [
              "<Figure size 600x600 with 1 Axes>"
            ],
            "image/png": "[encoded data removed]"
          },
          "metadata": {}
        }
      ]
    },
    {
      "cell_type": "code",
      "source": [
        "from sklearn.metrics import mean_absolute_error, mean_squared_error, r2_score\n",
        "\n",
        "mae = mean_absolute_error(labels_test, predictions)\n",
        "mse = mean_squared_error(labels_test, predictions)\n",
        "rmse = np.sqrt(mse)\n",
        "r2 = r2_score(labels_test, predictions)\n",
        "mape = np.mean(np.abs((np.array(labels_test) - np.array(predictions)) / np.array(labels_test))) * 100\n",
        "\n",
        "print(f\"Mean Absolute Error (MAE): {mae:.2f}\")\n",
        "print(f\"Mean Squared Error (MSE): {mse:.2f}\")\n",
        "print(f\"Root Mean Squared Error (RMSE): {rmse:.2f}\")\n",
        "print(f\"R-squared (R2) Score: {r2:.2f}\")\n",
        "print(f\"Mean Absolute Percentage Error (MAPE): {mape:.2f}%\")\n"
      ],
      "metadata": {
        "colab": {
          "base_uri": "https://localhost:8080/"
        },
        "id": "2owZwZigdXDD",
        "outputId": "1c07123c-d7a7-4bd6-d974-0fc39357c029"
      },
      "execution_count": null,
      "outputs": [
        {
          "output_type": "stream",
          "name": "stdout",
          "text": [
            "Mean Absolute Error (MAE): 0.16\n",
            "Mean Squared Error (MSE): 0.04\n",
            "Root Mean Squared Error (RMSE): 0.21\n",
            "R-squared (R2) Score: 0.68\n",
            "Mean Absolute Percentage Error (MAPE): 11.06%\n"
          ]
        }
      ]
    }
  ],
  "metadata": {
    "accelerator": "GPU",
    "colab": {
      "gpuType": "T4",
      "provenance": []
    },
    "kernelspec": {
      "display_name": "Python 3",
      "name": "python3"
    },
    "language_info": {
      "name": "python"
    }
  },
  "nbformat": 4,
  "nbformat_minor": 0
}