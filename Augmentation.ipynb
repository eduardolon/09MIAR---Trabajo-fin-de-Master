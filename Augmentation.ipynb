{
 "cells": [
  {
   "cell_type": "code",
   "execution_count": 29,
   "metadata": {},
   "outputs": [],
   "source": [
    "import os\n",
    "import random\n",
    "import pandas as pd\n",
    "import cv2\n",
    "import numpy as np\n",
    "\n",
    "# Source dataset path\n",
    "source_dir = \"Dataset/Test\"\n",
    "# Destination directory for augmented dataset\n",
    "dest_dir = \"Dataset/Augmented/Test\"\n",
    "\n",
    "# Create the destination directory if it doesn't exist\n",
    "os.makedirs(dest_dir, exist_ok=True)"
   ]
  },
  {
   "cell_type": "code",
   "execution_count": 3,
   "metadata": {},
   "outputs": [
    {
     "data": {
      "text/html": [
       "<div>\n",
       "<style scoped>\n",
       "    .dataframe tbody tr th:only-of-type {\n",
       "        vertical-align: middle;\n",
       "    }\n",
       "\n",
       "    .dataframe tbody tr th {\n",
       "        vertical-align: top;\n",
       "    }\n",
       "\n",
       "    .dataframe thead th {\n",
       "        text-align: right;\n",
       "    }\n",
       "</style>\n",
       "<table border=\"1\" class=\"dataframe\">\n",
       "  <thead>\n",
       "    <tr style=\"text-align: right;\">\n",
       "      <th></th>\n",
       "      <th>Image path</th>\n",
       "      <th>Class</th>\n",
       "      <th>Weight</th>\n",
       "    </tr>\n",
       "  </thead>\n",
       "  <tbody>\n",
       "    <tr>\n",
       "      <th>0</th>\n",
       "      <td>Dataset/Train/FBO1/cacao-31.jpg</td>\n",
       "      <td>FBO1</td>\n",
       "      <td>1.66</td>\n",
       "    </tr>\n",
       "    <tr>\n",
       "      <th>1</th>\n",
       "      <td>Dataset/Train/FBO1/cacao-32.jpg</td>\n",
       "      <td>FBO1</td>\n",
       "      <td>1.27</td>\n",
       "    </tr>\n",
       "    <tr>\n",
       "      <th>2</th>\n",
       "      <td>Dataset/Train/FBO1/cacao-33.jpg</td>\n",
       "      <td>FBO1</td>\n",
       "      <td>1.79</td>\n",
       "    </tr>\n",
       "    <tr>\n",
       "      <th>3</th>\n",
       "      <td>Dataset/Train/FBO1/cacao-34.jpg</td>\n",
       "      <td>FBO1</td>\n",
       "      <td>1.25</td>\n",
       "    </tr>\n",
       "    <tr>\n",
       "      <th>4</th>\n",
       "      <td>Dataset/Train/FBO1/cacao-35.jpg</td>\n",
       "      <td>FBO1</td>\n",
       "      <td>1.85</td>\n",
       "    </tr>\n",
       "  </tbody>\n",
       "</table>\n",
       "</div>"
      ],
      "text/plain": [
       "                        Image path Class  Weight\n",
       "0  Dataset/Train/FBO1/cacao-31.jpg  FBO1    1.66\n",
       "1  Dataset/Train/FBO1/cacao-32.jpg  FBO1    1.27\n",
       "2  Dataset/Train/FBO1/cacao-33.jpg  FBO1    1.79\n",
       "3  Dataset/Train/FBO1/cacao-34.jpg  FBO1    1.25\n",
       "4  Dataset/Train/FBO1/cacao-35.jpg  FBO1    1.85"
      ]
     },
     "execution_count": 3,
     "metadata": {},
     "output_type": "execute_result"
    }
   ],
   "source": [
    "train_ds = pd.read_csv(\"Dataset/labels_train.csv\", index_col=0)\n",
    "train_ds.head()"
   ]
  },
  {
   "cell_type": "code",
   "execution_count": 38,
   "metadata": {},
   "outputs": [
    {
     "name": "stderr",
     "output_type": "stream",
     "text": [
      "100%|██████████| 1612/1612 [04:09<00:00,  6.47it/s]\n"
     ]
    }
   ],
   "source": [
    "image_num=0\n",
    "df = []\n",
    "from tqdm import tqdm\n",
    "\n",
    "\n",
    "def augment_and_save(image_path, save_dir, label, weight, image_num):\n",
    "    image = cv2.imread(image_path)\n",
    "    image = cv2.resize(image, (500, 300))\n",
    "\n",
    "    height, width = image.shape[:2] \n",
    "    \n",
    "    for i in range(1, 9):\n",
    "\n",
    "        height, width = image.shape[:2]\n",
    "        center = (width // 2, height // 2)\n",
    "        rotation_matrix = cv2.getRotationMatrix2D(center, 45*i, 1.0)\n",
    "        rotated_image = cv2.warpAffine(image, rotation_matrix, (width, height))\n",
    "\n",
    "\n",
    "        black_pixels = np.where(\n",
    "            (rotated_image[:, :, 0] == 0) & \n",
    "            (rotated_image[:, :, 1] == 0) & \n",
    "            (rotated_image[:, :, 2] == 0)\n",
    "        )\n",
    "\n",
    "        # set those pixels to white\n",
    "        rotated_image[black_pixels] = [210, 210, 210]\n",
    "\n",
    "        new_file_name = f\"Dataset/Augmented/Train/cacao-{image_num}.jpg\"\n",
    "        df.append([f\"cacao-{image_num}.jpg\", label, weight])\n",
    "\n",
    "        \n",
    "\n",
    "        cv2.imwrite(new_file_name, rotated_image)\n",
    "        image_num+=1\n",
    "\n",
    "for i in tqdm(range(len(train_ds))):\n",
    "    augment_and_save(train_ds.iloc[i][\"Image path\"],\n",
    "                     \"Dataset/Augmented/Train\",\n",
    "                     train_ds.iloc[i][\"Class\"],\n",
    "                     train_ds.iloc[i][\"Weight\"],\n",
    "                     image_num)\n",
    "    image_num+=8\n",
    "\n",
    "df = pd.DataFrame(df, columns=[\"Image path\", \"Class\", \"Weight\"])\n",
    "df.to_csv(\"Dataset/Augmented/labels_train.csv\")"
   ]
  }
 ],
 "metadata": {
  "kernelspec": {
   "display_name": "tfm",
   "language": "python",
   "name": "python3"
  },
  "language_info": {
   "codemirror_mode": {
    "name": "ipython",
    "version": 3
   },
   "file_extension": ".py",
   "mimetype": "text/x-python",
   "name": "python",
   "nbconvert_exporter": "python",
   "pygments_lexer": "ipython3",
   "version": "3.12.6"
  }
 },
 "nbformat": 4,
 "nbformat_minor": 2
}
